{
 "cells": [
  {
   "cell_type": "code",
   "execution_count": 1,
   "id": "d5e6761f",
   "metadata": {},
   "outputs": [],
   "source": [
    "### Object Oriented programming With Python"
   ]
  },
  {
   "cell_type": "code",
   "execution_count": 2,
   "id": "e1e8de99",
   "metadata": {},
   "outputs": [],
   "source": [
    "#Environment setup\n",
    "import random\n",
    "from pprint import pprint "
   ]
  },
  {
   "cell_type": "code",
   "execution_count": null,
   "id": "7a447bc1",
   "metadata": {},
   "outputs": [],
   "source": []
  }
 ],
 "metadata": {
  "kernelspec": {
   "display_name": "Python 3 (ipykernel)",
   "language": "python",
   "name": "python3"
  },
  "language_info": {
   "codemirror_mode": {
    "name": "ipython",
    "version": 3
   },
   "file_extension": ".py",
   "mimetype": "text/x-python",
   "name": "python",
   "nbconvert_exporter": "python",
   "pygments_lexer": "ipython3",
   "version": "3.10.7"
  }
 },
 "nbformat": 4,
 "nbformat_minor": 5
}
